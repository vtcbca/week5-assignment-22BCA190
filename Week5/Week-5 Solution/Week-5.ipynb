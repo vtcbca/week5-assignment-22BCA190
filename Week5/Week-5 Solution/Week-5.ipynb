{
 "cells": [
  {
   "cell_type": "markdown",
   "id": "1775acf7",
   "metadata": {},
   "source": [
    "### Create Student CSV File Using PYTHON"
   ]
  },
  {
   "cell_type": "code",
   "execution_count": 1,
   "id": "0b4d2ea9",
   "metadata": {},
   "outputs": [],
   "source": [
    "import csv"
   ]
  },
  {
   "cell_type": "code",
   "execution_count": 2,
   "id": "e5d5a8d9",
   "metadata": {},
   "outputs": [],
   "source": [
    "header=['sid','sname','city','contact']"
   ]
  },
  {
   "cell_type": "markdown",
   "id": "b19596c0",
   "metadata": {},
   "source": [
    "#### Enter 5 Record Direct Insert In CSV File"
   ]
  },
  {
   "cell_type": "code",
   "execution_count": 3,
   "id": "65a63ccf",
   "metadata": {},
   "outputs": [],
   "source": [
    "directrecord=[['1','om','suart','9313405914'],\n",
    "      ['2','sai','bardoli','9638527410'],\n",
    "      ['3','ram','mumbai','1234567890'],\n",
    "      ['4','gopal','bardoli','0123456789'],\n",
    "      ['5','henil','suart','0147852369']]\n",
    "     "
   ]
  },
  {
   "cell_type": "markdown",
   "id": "fd835c60",
   "metadata": {},
   "source": [
    "#### Insert 5 Record Inputed By The User."
   ]
  },
  {
   "cell_type": "code",
   "execution_count": 8,
   "id": "13c812e7",
   "metadata": {},
   "outputs": [
    {
     "name": "stdout",
     "output_type": "stream",
     "text": [
      "Enter a Studnet Id :6\n",
      "Enter a Student name :charvin\n",
      "Enter a Student City :surat\n",
      "Enter a Student Contact No :9632587410\n",
      "Enter a Studnet Id :7\n",
      "Enter a Student name :neel\n",
      "Enter a Student City :bardoli\n",
      "Enter a Student Contact No :8523697410\n",
      "Enter a Studnet Id :8\n",
      "Enter a Student name :kunal\n",
      "Enter a Student City :surat\n",
      "Enter a Student Contact No :8567412930\n",
      "Enter a Studnet Id :9\n",
      "Enter a Student name :keval\n",
      "Enter a Student City :bardoli\n",
      "Enter a Student Contact No :8521479630\n",
      "Enter a Studnet Id :10\n",
      "Enter a Student name :jay\n",
      "Enter a Student City :suart\n",
      "Enter a Student Contact No :8523697410\n"
     ]
    }
   ],
   "source": [
    "userinput=[]\n",
    "for record in range(5):\n",
    "    sid = int(input(\"Enter a Studnet Id :\"))\n",
    "    sname = input(\"Enter a Student name :\")\n",
    "    city = input(\"Enter a Student City :\")\n",
    "    contact = int(input(\"Enter a Student Contact No :\"))\n",
    "    userinput.append([sid,sname,city,contact])"
   ]
  },
  {
   "cell_type": "code",
   "execution_count": 10,
   "id": "9bd0e3c2",
   "metadata": {},
   "outputs": [],
   "source": [
    "with open('student.csv','w',newline=\"\") as user_input:\n",
    "    input_user = csv.writer(user_input)\n",
    "    input_user.writerow(header)\n",
    "    input_user.writerows(directrecord)\n",
    "    input_user.writerows(userinput)"
   ]
  },
  {
   "cell_type": "code",
   "execution_count": 11,
   "id": "8fe331c7",
   "metadata": {},
   "outputs": [
    {
     "name": "stdout",
     "output_type": "stream",
     "text": [
      "['sid', 'sname', 'city', 'contact']\n",
      "['1', 'om', 'suart', '9313405914']\n",
      "['2', 'sai', 'bardoli', '9638527410']\n",
      "['3', 'ram', 'mumbai', '1234567890']\n",
      "['4', 'gopal', 'bardoli', '0123456789']\n",
      "['5', 'henil', 'suart', '0147852369']\n",
      "['6', 'charvin', 'surat', '9632587410']\n",
      "['7', 'neel', 'bardoli', '8523697410']\n",
      "['8', 'kunal', 'surat', '8567412930']\n",
      "['9', 'keval', 'bardoli', '8521479630']\n",
      "['10', 'jay', 'suart', '8523697410']\n"
     ]
    }
   ],
   "source": [
    "with open('student.csv','r') as read:\n",
    "    student_csv = csv.reader(read)\n",
    "    for records in student_csv:\n",
    "        print(records)"
   ]
  }
 ],
 "metadata": {
  "kernelspec": {
   "display_name": "Python 3 (ipykernel)",
   "language": "python",
   "name": "python3"
  },
  "language_info": {
   "codemirror_mode": {
    "name": "ipython",
    "version": 3
   },
   "file_extension": ".py",
   "mimetype": "text/x-python",
   "name": "python",
   "nbconvert_exporter": "python",
   "pygments_lexer": "ipython3",
   "version": "3.11.3"
  }
 },
 "nbformat": 4,
 "nbformat_minor": 5
}
